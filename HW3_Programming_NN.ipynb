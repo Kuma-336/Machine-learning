{
 "cells": [
  {
   "cell_type": "markdown",
   "metadata": {},
   "source": [
    "## DDA3020 Autumn 2023 Homework 3 \n",
    "\n",
    "### Programming Part 2：Neural Networks with PyTorch\n",
    "\n",
    "--------------------------------------------------------------------------------------------------------------------------\n",
    "In this notebook, we will build a fully-connected Neural Network and a Convolutional Neural Network with PyTorch, then apply on the MNIST data-set.\n",
    "\n",
    "--------------------------------------------------------------------------------------------------------------------------\n"
   ]
  },
  {
   "cell_type": "code",
   "execution_count": 1,
   "metadata": {},
   "outputs": [],
   "source": [
    "import numpy as np\n",
    "import torch\n",
    "import torch.nn as nn\n",
    "import matplotlib.pyplot as plt\n"
   ]
  },
  {
   "cell_type": "markdown",
   "metadata": {},
   "source": [
    "### 1. Preparation: PyTorch basics and back-propagation (10 points)\n",
    "PyTorch is one of the most popular frameworks for Deep Learning. To have a quick insight on how to use PyTorch, let's say that most of the functionalities of a numpy array are also maintained for torch tensors, except that the grammar might be slightly different. \n",
    "\n",
    "##### 1-1 (0.5 point) \n",
    "\n",
    "Set the random seed to 123. Create a random Tensor `a` of shape [3,20,20] with default normal distribution $\\mathcal{N}(0,1)$. "
   ]
  },
  {
   "cell_type": "code",
   "execution_count": 2,
   "metadata": {},
   "outputs": [
    {
     "data": {
      "text/plain": [
       "tensor([[[ 0.3374, -0.1778, -0.3035,  ..., -1.0205, -0.1690,  0.9178],\n",
       "         [ 1.5810,  1.3010,  1.2753,  ..., -0.9343, -0.4991, -1.0867],\n",
       "         [ 0.8805,  1.5542,  0.6266,  ..., -0.8036, -0.2808,  0.7697],\n",
       "         ...,\n",
       "         [ 0.9376, -0.9225,  0.7047,  ...,  1.7409,  0.2698,  0.9595],\n",
       "         [-1.0253, -0.5505,  1.0264,  ..., -0.2866,  0.4343, -0.1340],\n",
       "         [-2.1467, -1.7984, -0.6822,  ..., -1.4498,  1.5446,  1.0394]],\n",
       "\n",
       "        [[ 2.1681,  0.4884,  0.3359,  ...,  1.3258,  0.2103,  1.7876],\n",
       "         [-1.2128,  0.2045,  1.1051,  ...,  0.7392, -0.4931,  0.4073],\n",
       "         [-1.0394, -0.3226,  0.7226,  ..., -0.3845,  0.6554, -0.1045],\n",
       "         ...,\n",
       "         [ 0.9202,  0.1743, -0.4796,  ...,  1.0720,  1.1054, -2.0586],\n",
       "         [ 0.2878, -1.1389,  0.1729,  ..., -0.7809, -0.2270, -0.4358],\n",
       "         [ 0.8209, -0.6353, -0.4386,  ..., -0.4097, -0.0627,  0.0175]],\n",
       "\n",
       "        [[ 1.3715, -0.2226,  1.0566,  ..., -1.6292,  0.6107,  1.2718],\n",
       "         [-0.9422, -0.2667, -0.3216,  ...,  0.9447,  0.1466,  0.2673],\n",
       "         [ 0.9467, -0.1406,  0.0329,  ..., -0.9542, -1.6160, -0.1016],\n",
       "         ...,\n",
       "         [ 0.2726,  1.5576, -0.4084,  ..., -0.3728,  1.7021, -0.1753],\n",
       "         [-2.0416, -0.2749,  1.5302,  ..., -0.9490,  0.6888, -0.8741],\n",
       "         [ 0.5316, -1.9083,  0.4046,  ..., -0.4077,  0.6508,  1.4137]]])"
      ]
     },
     "execution_count": 2,
     "metadata": {},
     "output_type": "execute_result"
    }
   ],
   "source": [
    "torch.manual_seed(123)\n",
    "# create tensor a\n",
    "a = torch.randn(3, 20, 20)\n",
    "a"
   ]
  },
  {
   "cell_type": "markdown",
   "metadata": {},
   "source": [
    "##### 1-2 (0.5 point) \n",
    "1. Transfer `a` to a numpy array and print `a[0,0]`.\n",
    "2. Transfer `a` back to torch tensor and print `a[0,0]`.\n",
    "\n",
    "**Apart from this block, in this section, you shall not to use numpy**\n",
    "\n"
   ]
  },
  {
   "cell_type": "code",
   "execution_count": 3,
   "metadata": {},
   "outputs": [
    {
     "name": "stdout",
     "output_type": "stream",
     "text": [
      "1: [ 0.3373702  -0.17777722 -0.3035276  -0.58801186  0.3486052   0.66034096\n",
      " -0.21963762 -0.37916982  0.76710707 -1.192502    0.6983519  -1.4097229\n",
      "  0.17937961  1.895148    0.49544638  0.26919857 -0.07702024 -1.0204719\n",
      " -0.16895628  0.91776454]\n",
      "2: tensor([ 0.3374, -0.1778, -0.3035, -0.5880,  0.3486,  0.6603, -0.2196, -0.3792,\n",
      "         0.7671, -1.1925,  0.6984, -1.4097,  0.1794,  1.8951,  0.4954,  0.2692,\n",
      "        -0.0770, -1.0205, -0.1690,  0.9178])\n"
     ]
    }
   ],
   "source": [
    "# 1\n",
    "a_np = np.array(a)\n",
    "print(\"1:\", a_np[0, 0])\n",
    "# 2 \n",
    "a = torch.from_numpy(a_np)\n",
    "print(\"2:\", a[0, 0])"
   ]
  },
  {
   "cell_type": "markdown",
   "metadata": {},
   "source": [
    "##### 1-3 (1 point) \n",
    "\n",
    "Print for `a`: \n",
    "- its shape (size)\n",
    "- its mean value over all entries\n",
    "- its std over all entries\n",
    "- its median value over all entries"
   ]
  },
  {
   "cell_type": "code",
   "execution_count": 4,
   "metadata": {},
   "outputs": [
    {
     "name": "stdout",
     "output_type": "stream",
     "text": [
      "size of a: torch.Size([3, 20, 20])\n",
      "mean value of a: tensor(-0.0028)\n",
      "std of a: tensor(0.9965)\n",
      "median value of a: tensor(-0.0016)\n"
     ]
    }
   ],
   "source": [
    "print(\"size of a:\", a.size())\n",
    "print(\"mean value of a:\", a.mean())\n",
    "print(\"std of a:\", a.std())\n",
    "print(\"median value of a:\", a.median())"
   ]
  },
  {
   "cell_type": "markdown",
   "metadata": {},
   "source": [
    "##### 1-4 (1 point)\n",
    "\n",
    "Compute: \n",
    "- `b2` = the mean values of `a` along axis 2\n",
    "- `b12`= the mean values of `a` along axis 1 and 2\n",
    "- Print the shape of `b2` and `b12`"
   ]
  },
  {
   "cell_type": "code",
   "execution_count": 5,
   "metadata": {},
   "outputs": [
    {
     "name": "stdout",
     "output_type": "stream",
     "text": [
      "size of b2: torch.Size([3, 20])\n",
      "size of b12: torch.Size([3])\n"
     ]
    }
   ],
   "source": [
    "b2 = torch.mean(a, dim=2)\n",
    "b12 = torch.mean(a, dim=(1, 2))\n",
    "print(\"size of b2:\", b2.size())\n",
    "print(\"size of b12:\", b12.size())"
   ]
  },
  {
   "cell_type": "markdown",
   "metadata": {},
   "source": [
    "##### 1-5 (3 point) \n",
    "\n",
    "Create a neural network `model_tmp` of 3 layers:\n",
    "\n",
    "- layer 1 ---------- : receives input of length 400, has 128 neurons with bias\n",
    "\n",
    "- activation 1 ----- : relu\n",
    "\n",
    "- layer 2 ---------- : receives input of length 128, has 64 neurons with bias\n",
    "\n",
    "- activation 2 ----- : relu\n",
    "\n",
    "- layer 3 ---------- : receives input of length 64, has 4 neurons without bias\n",
    "\n",
    "- activation 3 ----- : softmax over axis -1\n",
    "\n",
    "[Hint]: you will mainly use modules from torch.nn\n",
    "\n"
   ]
  },
  {
   "cell_type": "code",
   "execution_count": 6,
   "metadata": {},
   "outputs": [],
   "source": [
    "import torch.nn as nn\n",
    "class ModelTmp(nn.Module):\n",
    "    def __init__(self):\n",
    "        super(ModelTmp, self).__init__()\n",
    "        # fixed seed for reproductive results\n",
    "        torch.manual_seed(114514)\n",
    "        self.layer1 = nn.Linear(400, 128, bias=True) # construct layer 1\n",
    "        self.activation1 = nn.ReLU()                 # construct activation 1\n",
    "        self.layer2 = nn.Linear(128, 64, bias=True)  # construct layer 2\n",
    "        self.activation2 = nn.ReLU()                 # construct activation 2\n",
    "        self.layer3 = nn.Linear(64, 4, bias=False)   # construct layer 3\n",
    "        self.activation3 = nn.Softmax(dim=-1)        # construct activation 3\n",
    "\n",
    "    def forward(self, x):\n",
    "        x = self.activation1(self.layer1(x))\n",
    "        x = self.activation2(self.layer2(x))\n",
    "        x = self.activation3(self.layer3(x))\n",
    "        return x\n",
    "\n",
    "model_tmp = ModelTmp()"
   ]
  },
  {
   "cell_type": "markdown",
   "metadata": {},
   "source": [
    "##### 1-6 (1 point) \n",
    "\n",
    "Flatten the two last axis of `a` and apply `model_tmp` on `a`. Print your output.\n"
   ]
  },
  {
   "cell_type": "code",
   "execution_count": 7,
   "metadata": {},
   "outputs": [
    {
     "name": "stdout",
     "output_type": "stream",
     "text": [
      "tensor([[0.2630, 0.2262, 0.2660, 0.2448],\n",
      "        [0.2543, 0.2649, 0.2401, 0.2407],\n",
      "        [0.2760, 0.2649, 0.2663, 0.1928]], grad_fn=<SoftmaxBackward0>)\n"
     ]
    }
   ],
   "source": [
    "# faltten the last two axis of a\n",
    "a_f = torch.flatten(a, start_dim=-2, end_dim=-1)\n",
    "output_1_6 = model_tmp(a_f)\n",
    "print(output_1_6)"
   ]
  },
  {
   "cell_type": "markdown",
   "metadata": {},
   "source": [
    "##### 1-7 (1 point) \n",
    "Calculate the MSE loss between `this output` and an `all-1 tensor`. Print your result.\n",
    "\n",
    "[Hint]: You can use either **torch.nn.functional** or **torch.nn** or **torch**\n"
   ]
  },
  {
   "cell_type": "code",
   "execution_count": 8,
   "metadata": {},
   "outputs": [
    {
     "name": "stdout",
     "output_type": "stream",
     "text": [
      "MSE between two tensors: tensor(0.5630, grad_fn=<MseLossBackward0>)\n"
     ]
    }
   ],
   "source": [
    "import torch.nn.functional as F\n",
    "all_1 = torch.ones_like(output_1_6)\n",
    "mse = F.mse_loss(output_1_6, all_1)\n",
    "print(\"MSE between two tensors:\", mse)"
   ]
  },
  {
   "cell_type": "markdown",
   "metadata": {},
   "source": [
    "##### 1-8 (1 point) \n",
    "Excecute `back-propagation` on this loss and extract the gradient of the `final layer` of model_tmp as `grd`. Print `grd[:,5]`\n",
    "\n",
    "[Hint]: To extract the weights, you can use w_last_layer = list(model.parameters())[-1] or any other more elegant phrase."
   ]
  },
  {
   "cell_type": "code",
   "execution_count": 9,
   "metadata": {},
   "outputs": [
    {
     "name": "stdout",
     "output_type": "stream",
     "text": [
      "tensor([ 0.0003,  0.0002,  0.0001, -0.0006])\n"
     ]
    }
   ],
   "source": [
    "# clear gradients\n",
    "model_tmp.zero_grad()\n",
    "# back-propagation\n",
    "mse.backward()\n",
    "# extract weights of the last layer\n",
    "w_last_layer = list(model_tmp.parameters())[-1]\n",
    "# extract gradients of the last layer\n",
    "grd = w_last_layer.grad\n",
    "print(grd[:, 5])"
   ]
  },
  {
   "cell_type": "markdown",
   "metadata": {},
   "source": [
    "##### 1-9 (1 point) \n",
    "1. Create a `SGD optimizer` with learning_rate = `1e-3` associated with the parameters of model_tmp. \n",
    "2. Step this optimizer. \n",
    "3. Verify that the `variation of the parameters` of the last layer equals `1e-3 * grd`, except that there might be some machine inaccuracies.\n",
    "\n",
    "[Hint]: You can simple print something and we'll see that most of the entries are near 0 or that most of the entries are near 0.001"
   ]
  },
  {
   "cell_type": "code",
   "execution_count": 10,
   "metadata": {},
   "outputs": [
    {
     "name": "stdout",
     "output_type": "stream",
     "text": [
      "tensor([[0., 0., 0., 0., 0., 0., 0., 0., 0., 0., 0., 0., 0., 0., 0., 0., 0., 0., 0., 0., 0., 0., 0., 0.,\n",
      "         0., 0., 0., 0., 0., 0., 0., 0., 0., 0., 0., 0., 0., 0., 0., 0., 0., 0., 0., 0., 0., 0., 0., 0.,\n",
      "         0., 0., 0., 0., 0., 0., 0., 0., 0., 0., 0., 0., 0., 0., 0., 0.],\n",
      "        [0., 0., 0., 0., 0., 0., 0., 0., 0., 0., 0., 0., 0., 0., 0., 0., 0., 0., 0., 0., 0., 0., 0., 0.,\n",
      "         0., 0., 0., 0., 0., 0., 0., 0., 0., 0., 0., 0., 0., 0., 0., 0., 0., 0., 0., 0., 0., 0., 0., 0.,\n",
      "         0., 0., 0., 0., 0., 0., 0., 0., 0., 0., 0., 0., 0., 0., 0., 0.],\n",
      "        [0., 0., 0., 0., 0., 0., 0., 0., 0., 0., 0., 0., 0., 0., 0., 0., 0., 0., 0., 0., 0., 0., 0., 0.,\n",
      "         0., 0., 0., 0., 0., 0., 0., 0., 0., 0., 0., 0., 0., 0., 0., 0., 0., 0., 0., 0., 0., 0., 0., 0.,\n",
      "         0., 0., 0., 0., 0., 0., 0., 0., 0., 0., 0., 0., 0., 0., 0., 0.],\n",
      "        [0., 0., 0., 0., 0., 0., 0., 0., 0., 0., 0., 0., 0., 0., 0., 0., 0., 0., 0., 0., 0., 0., 0., 0.,\n",
      "         0., 0., 0., 0., 0., 0., 0., 0., 0., 0., 0., 0., 0., 0., 0., 0., 0., 0., 0., 0., 0., 0., 0., 0.,\n",
      "         0., 0., 0., 0., 0., 0., 0., 0., 0., 0., 0., 0., 0., 0., 0., 0.]],\n",
      "       grad_fn=<RoundBackward1>)\n"
     ]
    }
   ],
   "source": [
    "import torch.optim as optim\n",
    "\n",
    "# create SGD optimizer\n",
    "optimizer = optim.SGD(model_tmp.parameters(), lr=1e-3)\n",
    "# step the optimizer\n",
    "optimizer.zero_grad()\n",
    "optimizer.step()\n",
    "# compute the variation of params of the last layer\n",
    "#vari = torch.abs(list(model_tmp.parameters())[-1] - (1e-3 * grd))\n",
    "vari = torch.abs(1e-3 * grd / list(model_tmp.parameters())[-1])\n",
    "vari = torch.round(vari, decimals=3)\n",
    "torch.set_printoptions(sci_mode=False)\n",
    "print(vari)"
   ]
  },
  {
   "cell_type": "markdown",
   "metadata": {},
   "source": [
    "### 2. Simple fully-connected NN (MLP) (12 points)\n",
    "\n",
    "**`Procedure`**: (1+1+1+1 = 4 points)\n",
    "1. Create a fully-connected neural network, which will be a MLP. This NN will take the fattened images ([28,28] -> [28*28]) as input.  \n",
    "2. Choose your optimizer and criterion (loss function).\n",
    "3. Train some epoches (you can start with 10) on the MNIST data-set.\n",
    "4. Keep your best model according to validation loss.\n",
    "5. `Save your best model and attach it in your submitted zip`.\n",
    "\n",
    "**`Required outputs`**: (1+1+2 = 4 points)\n",
    "1. Print averaged train loss and validation loss at the end of each epoch.\n",
    "2. After the training finished, plot your train (validation, respectively) loss of each step (epoch, respectively) on a same graph. Keep the x-axis aligned.\n",
    "3. Test your best model on test set and print (1) test loss value as well as (2) the rate of correct prediction. \n",
    "\n",
    "\n",
    "4 points are given according to your test performance. `4 is given if you have correct test prediction rate > 90.00%`\n",
    "\n"
   ]
  },
  {
   "cell_type": "code",
   "execution_count": 11,
   "metadata": {},
   "outputs": [
    {
     "name": "stdout",
     "output_type": "stream",
     "text": [
      "torch.Size([10, 1, 28, 28]) torch.Size([10])\n",
      "tensor([1, 9, 0, 9, 7, 0, 5, 1, 2, 2])\n"
     ]
    }
   ],
   "source": [
    "#### prepare data-set\n",
    "#### you re expected to have either pickle or torchvision in your environment\n",
    "\n",
    "import torch\n",
    "from torch.utils.data import DataLoader, Dataset, Subset\n",
    "import importlib\n",
    "\n",
    "# python > 3.4\n",
    "if importlib.util.find_spec('torchvision') is None: # if you do not have torchvision, use TA's downloaded data\n",
    "    import pickle as pkl\n",
    "\n",
    "    with open('./MNIST_dataset_local','rb') as read_file:\n",
    "        data = pkl.load(read_file)\n",
    "        read_file.close()\n",
    "\n",
    "    train_images, train_labels = data['train']\n",
    "    test_images, test_labels = data['test']\n",
    "\n",
    "    val_images, val_labels = train_images[5500:], train_labels[5500:]\n",
    "    train_images, train_labels = train_images[:5500], train_labels[:5500]\n",
    "\n",
    "    class myMnistDataSet(Dataset):\n",
    "\n",
    "        def __init__(self,images,labels):\n",
    "            self.X = images[:,None,...]\n",
    "            self.y = labels\n",
    "\n",
    "        def __len__(self):\n",
    "            return len(self.X)\n",
    "\n",
    "        def __getitem__(self, index):\n",
    "            image = self.X[index]\n",
    "            label = self.y[index]\n",
    "            return torch.Tensor(image), torch.tensor(label)[0]\n",
    "        \n",
    "    mnist_train = myMnistDataSet(train_images, train_labels.astype('int64'))\n",
    "    mnist_test = myMnistDataSet(test_images, test_labels.astype('int64'))\n",
    "    mnist_val = myMnistDataSet(val_images, val_labels.astype('int64'))\n",
    "\n",
    "else: # use torchvision\n",
    "    from torchvision import transforms, datasets\n",
    "\n",
    "    mnist_download_path = './MNIST_dataset'\n",
    "    datasets.MNIST(root=mnist_download_path, download=True)\n",
    "\n",
    "    mnist_train = datasets.MNIST(root = mnist_download_path, train = True, transform=transforms.ToTensor())\n",
    "    mnist_val   = Subset(mnist_train, list(range(5500,6000)))\n",
    "    mnist_train = Subset(mnist_train, list(range(5500)))\n",
    "\n",
    "    mnist_test  = datasets.MNIST(root = mnist_download_path, train = False, transform=transforms.ToTensor())\n",
    "\n",
    "\n",
    "def get_loaders(batch_size):\n",
    "    train_loader = DataLoader(mnist_train, batch_size = batch_size, shuffle=True)\n",
    "    val_loader   = DataLoader(mnist_val, batch_size = batch_size, shuffle=False)\n",
    "    test_loader  = DataLoader(mnist_test, batch_size = batch_size, shuffle=False)\n",
    "\n",
    "    return train_loader, val_loader, test_loader\n",
    "\n",
    "\n",
    "# get to know your loader\n",
    "batch_size = 10\n",
    "train_loader, val_loader, test_loader = get_loaders(batch_size)\n",
    "\n",
    "for im, l in val_loader:\n",
    "    break\n",
    "\n",
    "print(im.shape, l.shape)\n",
    "print(l)"
   ]
  },
  {
   "cell_type": "markdown",
   "metadata": {},
   "source": [
    "To create fully-connected NN, we shall guarantee that the number of nuerons and inputs of each layer are matched to each other by the direction of flow in and flow out.\n",
    "\n",
    "Here we use a 4-layer NN to implement training on data"
   ]
  },
  {
   "cell_type": "code",
   "execution_count": 12,
   "metadata": {},
   "outputs": [],
   "source": [
    "# create MLP\n",
    "class MLP(nn.Module):\n",
    "    def __init__(self):\n",
    "        super(MLP, self).__init__()\n",
    "        self.fc1 = nn.Linear(28 * 28, 128)\n",
    "        self.fc2 = nn.Linear(128, 64)\n",
    "        self.fc3 = nn.Linear(64, 32)\n",
    "        self.fc4 = nn.Linear(32, 10)\n",
    "\n",
    "    def forward(self, x):\n",
    "        x = x.view(x.size(0), -1)\n",
    "        x = torch.relu(self.fc1(x))\n",
    "        x = torch.relu(self.fc2(x))\n",
    "        x = torch.relu(self.fc3(x))\n",
    "        x = self.fc4(x)\n",
    "        return x"
   ]
  },
  {
   "cell_type": "code",
   "execution_count": 13,
   "metadata": {},
   "outputs": [],
   "source": [
    "# choose optimizer and loss function\n",
    "model = MLP()\n",
    "optimizer = optim.SGD(model.parameters(), lr=1e-3)\n",
    "criterion = nn.CrossEntropyLoss()"
   ]
  },
  {
   "cell_type": "markdown",
   "metadata": {},
   "source": [
    "The following part shall be important for conducting the rest tests. Define functions for training, validating and testing on corresponding datasets.\n",
    "\n",
    "Train function returns $Average\\  loss$ while Validation & Test functions return $(Average\\  loss, Accuracy)$"
   ]
  },
  {
   "cell_type": "code",
   "execution_count": 14,
   "metadata": {},
   "outputs": [],
   "source": [
    "# train function\n",
    "def train(model, train_loader, optimizer, criterion):\n",
    "    model.train()\n",
    "    total_loss = 0.0\n",
    "    for images, labels in train_loader:\n",
    "        optimizer.zero_grad()\n",
    "        output = model(images)\n",
    "        loss = criterion(output, labels)\n",
    "        loss.backward()\n",
    "        optimizer.step()\n",
    "        total_loss += loss.item()\n",
    "    return total_loss / len(train_loader)\n",
    "\n",
    "# validate function\n",
    "def validate(model, val_loader, criterion):\n",
    "    model.eval()\n",
    "    total_loss = 0.0\n",
    "    correct = 0\n",
    "    total = 0\n",
    "    with torch.no_grad():\n",
    "        for images, labels in val_loader:\n",
    "            output = model(images)\n",
    "            loss = criterion(output, labels)\n",
    "            total_loss += loss.item()\n",
    "            _, predicted = torch.max(output.data, 1)\n",
    "            total += labels.size(0)\n",
    "            correct += (predicted == labels).sum().item()\n",
    "    return total_loss / len(val_loader), correct / total\n",
    "\n",
    "# test function\n",
    "def test(model, test_loader, criterion):\n",
    "    total_loss = 0.0\n",
    "    correct = 0\n",
    "    total = 0\n",
    "    with torch.no_grad():\n",
    "        for images, labels in test_loader:\n",
    "            output = model(images)\n",
    "            loss = criterion(output, labels)\n",
    "            total_loss += loss.item()\n",
    "            _, predicted = torch.max(output.data, 1)\n",
    "            total += labels.size(0)\n",
    "            correct += (predicted == labels).sum().item()\n",
    "    return total_loss / len(test_loader), correct / total"
   ]
  },
  {
   "cell_type": "markdown",
   "metadata": {},
   "source": [
    "The $train \\_test$ function would automatically train and implement validation on validation set, consequently it will also save the best model according to the validation loss."
   ]
  },
  {
   "cell_type": "code",
   "execution_count": 15,
   "metadata": {},
   "outputs": [],
   "source": [
    "# implementation of training & validation\n",
    "def train_test(model, num_epochs, train_loader, optimizer, criterion, save_path):\n",
    "    train_loss = []\n",
    "    val_loss = []\n",
    "    val_accuracy = []\n",
    "    best_val_loss = float('inf')\n",
    "\n",
    "    for epoch in range(num_epochs):\n",
    "        ts = train(model, train_loader, optimizer, criterion)\n",
    "        vl, va = validate(model, val_loader, criterion)\n",
    "\n",
    "        if vl < best_val_loss:\n",
    "            best_val_loss = vl\n",
    "            # save the model with the best performance\n",
    "            torch.save(model, save_path)\n",
    "\n",
    "        train_loss.append(ts)\n",
    "        val_loss.append(vl)\n",
    "        val_accuracy.append(va)\n",
    "    \n",
    "        print(f\"Epoch [{epoch+1}/{num_epochs}]: Train loss: {ts:.4f}, Val loss: {vl:.4f}, Val accuracy: {va:.4f}\")\n",
    "\n",
    "    plt.plot(range(1, num_epochs+1), train_loss, label='Train')\n",
    "    plt.plot(range(1, num_epochs+1), val_loss, label='Validation')\n",
    "    plt.xlabel('Epoch')\n",
    "    plt.ylabel('Loss')\n",
    "    plt.legend()\n",
    "    plt.show()  "
   ]
  },
  {
   "cell_type": "markdown",
   "metadata": {},
   "source": [
    "Here we can adjust number of epoches to obtain better performance, where here we choose 10 epoches with learning rate = 1e-3"
   ]
  },
  {
   "cell_type": "code",
   "execution_count": 16,
   "metadata": {},
   "outputs": [
    {
     "name": "stdout",
     "output_type": "stream",
     "text": [
      "Epoch [1/10]: Train loss: 0.7070, Val loss: 0.4438, Val accuracy: 0.8639\n",
      "Epoch [2/10]: Train loss: 0.2851, Val loss: 0.3285, Val accuracy: 0.8991\n",
      "Epoch [3/10]: Train loss: 0.1813, Val loss: 0.2962, Val accuracy: 0.9101\n",
      "Epoch [4/10]: Train loss: 0.1256, Val loss: 0.3032, Val accuracy: 0.9108\n",
      "Epoch [5/10]: Train loss: 0.0886, Val loss: 0.3144, Val accuracy: 0.9100\n",
      "Epoch [6/10]: Train loss: 0.0611, Val loss: 0.2834, Val accuracy: 0.9198\n",
      "Epoch [7/10]: Train loss: 0.0416, Val loss: 0.2881, Val accuracy: 0.9221\n",
      "Epoch [8/10]: Train loss: 0.0279, Val loss: 0.2900, Val accuracy: 0.9233\n",
      "Epoch [9/10]: Train loss: 0.0205, Val loss: 0.2932, Val accuracy: 0.9240\n",
      "Epoch [10/10]: Train loss: 0.0150, Val loss: 0.2912, Val accuracy: 0.9246\n"
     ]
    },
    {
     "data": {
      "image/png": "[encoded data removed]",
      "text/plain": [
       "<Figure size 640x480 with 1 Axes>"
      ]
     },
     "metadata": {},
     "output_type": "display_data"
    }
   ],
   "source": [
    "if __name__ == '__main__':\n",
    "    num_epochs = 10\n",
    "    path = 'best_nn'\n",
    "    train_test(model, num_epochs, train_loader, optimizer, criterion, path)"
   ]
  },
  {
   "cell_type": "markdown",
   "metadata": {},
   "source": [
    "Now we test the best model on the test set"
   ]
  },
  {
   "cell_type": "code",
   "execution_count": 17,
   "metadata": {},
   "outputs": [
    {
     "name": "stdout",
     "output_type": "stream",
     "text": [
      "Loss on test set: 0.2525\n",
      "Rate of correct prediction on test set: 92.61%\n"
     ]
    }
   ],
   "source": [
    "# Load the model\n",
    "model_ = torch.load(path)\n",
    "\n",
    "# Evaluate the model on the test set\n",
    "test_loss, accuracy = test(model_, test_loader, criterion)\n",
    "\n",
    "print(\"Loss on test set:\", round(test_loss, 4))\n",
    "print(\"Rate of correct prediction on test set:\", f'{100 * accuracy:.2f}%')"
   ]
  },
  {
   "cell_type": "markdown",
   "metadata": {},
   "source": [
    "##### Therefore we may conclude that the model has a good performance on the test set with rate of correct prediction over 0.9"
   ]
  },
  {
   "cell_type": "markdown",
   "metadata": {},
   "source": [
    "### 3. Bonus - Weight game (Bonus 2+4+1 = 7 points. Bonus is for this exercise exclusively)\n",
    "\n",
    "3-1. Display\n",
    "- The average image of respectively label 1-10 over the validation set.\n",
    "\n",
    "3-2. Build a 1-layer NN for this problem. Use `Binary Cross Entropy Loss` as validation criterion. Train some epoches until `validation loss < 0.1`. This 1-layer NN has no more than 2 parameters (w and b). Display w with respect to label 1-10, for:\n",
    "\n",
    " - Before training (randomly initialized weights). Print the validation loss at this moment.\n",
    " - After val loss < 0.1 \n",
    "\n",
    "3-3. Use **`one word`** to summarize the mecanism with which this NN works.\n",
    "\n",
    "[Hint]: \n",
    " - For display, please refer to solution_HW1_polynomial_regression for loop structure. This time you will use plt.imshow()  \n",
    " - The weight shape is [10,28*28]. Reshape to [10,28,28] then plot 10 times [28,28]"
   ]
  },
  {
   "cell_type": "markdown",
   "metadata": {},
   "source": [
    "#### 3.1"
   ]
  },
  {
   "cell_type": "code",
   "execution_count": 18,
   "metadata": {},
   "outputs": [
    {
     "data": {
      "image/png": "[encoded data removed]",
      "text/plain": [
       "<Figure size 1000x500 with 10 Axes>"
      ]
     },
     "metadata": {},
     "output_type": "display_data"
    }
   ],
   "source": [
    "label_sums = torch.zeros(10, 28*28)\n",
    "count = torch.zeros(10)\n",
    "\n",
    "for images, labels in val_loader:\n",
    "    images = images.view(images.size(0), -1) # flatten images to [batch_size, 28*28]\n",
    "    label_sums[labels] += images.sum(dim=0)  # along the batch dimension\n",
    "    count[labels] += 1\n",
    "\n",
    "    label_averages = label_sums / count.unsqueeze(1)\n",
    "\n",
    "fig, axs = plt.subplots(2, 5, figsize=(10, 5))\n",
    "for label in range(10):\n",
    "    average_image = label_averages[label].view(28 ,28)\n",
    "    ax = axs[label // 5, label % 5]\n",
    "    ax.imshow(average_image.numpy(), cmap='gray')\n",
    "    ax.set_title(f'Average Image-Label {label+1}')\n",
    "    ax.axis('off')\n",
    "    \n",
    "plt.tight_layout()\n",
    "plt.show()"
   ]
  },
  {
   "cell_type": "markdown",
   "metadata": {},
   "source": [
    "#### 3.2"
   ]
  },
  {
   "cell_type": "markdown",
   "metadata": {},
   "source": [
    "Firstly we build an one-layer NN"
   ]
  },
  {
   "cell_type": "code",
   "execution_count": 19,
   "metadata": {},
   "outputs": [],
   "source": [
    "class OneLayerNN(nn.Module):\n",
    "    def __init__(self):\n",
    "        super(OneLayerNN, self).__init__()\n",
    "        self.f = nn.Linear(28*28, 10, bias=True)\n",
    "        # randomly initialize the weights\n",
    "        nn.init.normal_(self.f.weight, mean=0, std=1)\n",
    "\n",
    "    def forward(self, x):\n",
    "        x = x.view(x.size(0), -1)\n",
    "        x = self.f(x)\n",
    "        return x"
   ]
  },
  {
   "cell_type": "markdown",
   "metadata": {},
   "source": [
    "Initialize criterion and optimizer, we choose a large learning rate to accelerate the convergence on validation set"
   ]
  },
  {
   "cell_type": "code",
   "execution_count": 20,
   "metadata": {},
   "outputs": [],
   "source": [
    "model_one_layer = OneLayerNN()\n",
    "criterion_one_layer = nn.BCEWithLogitsLoss()\n",
    "optimizer_one_layer = optim.Adam(model_one_layer.parameters(), lr=0.01)"
   ]
  },
  {
   "cell_type": "markdown",
   "metadata": {},
   "source": [
    "Note that all weights for each label are randomly generated by Gaussian Distribution"
   ]
  },
  {
   "cell_type": "code",
   "execution_count": 21,
   "metadata": {},
   "outputs": [
    {
     "name": "stdout",
     "output_type": "stream",
     "text": [
      "Before training:\n"
     ]
    },
    {
     "data": {
      "image/png": "[encoded data removed]",
      "text/plain": [
       "<Figure size 1000x500 with 10 Axes>"
      ]
     },
     "metadata": {},
     "output_type": "display_data"
    }
   ],
   "source": [
    "print('Before training:')\n",
    "fig, axs = plt.subplots(2, 5, figsize=(10, 5))\n",
    "weights = model_one_layer.f.weight.data\n",
    "weights = weights.numpy()\n",
    "for i in range(2):\n",
    "    for j in range(5):\n",
    "        axs[i, j].imshow(weights[i*5+j].reshape(28, 28), cmap='gray')\n",
    "        axs[i, j].set_title(f'Label {i*5+j+1}')\n",
    "        axs[i, j].axis('off')\n",
    "plt.tight_layout()\n",
    "plt.show()"
   ]
  },
  {
   "cell_type": "markdown",
   "metadata": {},
   "source": [
    "**One word**: $Feedforward$"
   ]
  },
  {
   "cell_type": "markdown",
   "metadata": {},
   "source": [
    "### 4. CNN (13 points)\n",
    "\n",
    "`Build your own CNN from scratch (3 points)` to solve this classification problem. Choose any optimizer and criterion that you want. Regulate your CNN structure and try to have as good result as possible.\n",
    "\n",
    "\n",
    "**`Required outputs`**: (0.5+1+1+2+1 = 5.5 points)\n",
    "1. Print the number of parameters of your cnn model.\n",
    "2. Print averaged train loss and validation loss at the end of each epoch.\n",
    "3. After the training finished, plot your train (validation, respectively) loss of each step (epoch, respectively) on a same graph. Keep the x-axis aligned.\n",
    "4. Test your best model on test set and print (1) test loss value as well as (2) the rate of correct prediction. \n",
    "5. Display the confusion matrix of your best model on the test set.\n",
    "6. `Save your best model and attach it in your submitted zip`.\n",
    "\n",
    "\n",
    "4.5 points are given according to your test performance. `4.5 is given if you have correct test prediction rate > 97.00%.`\n",
    "\n",
    "[Hint]: \n",
    "1. If you use batch normalizations, be aware of what BatchNorm does while fed with data (you will need to add two lines of codes to manage your training and testing).\n",
    "2. As for confusion matrix (multi-class classfication), consider a $10\\times 10$ matrix where each row represents \"gt is\" and each column represents \"is predicted as\", then do a counting with all the test samples. You will obtain a gray-scale image (2D matrix).\n",
    "\n",
    "\n",
    "\n",
    "\n",
    "\n",
    "------------------------------------------------------------------------------------------------------------------------------------------------\n",
    "`Discussion for computational cost`: \n",
    "\n",
    "If you have NVIDIA card on your PC, you can use `cuda` to accelerate the calculation. However, theoretically, `2 layers of CNN are enough` to have at least 97% test accuracy for this exercise. \n",
    "\n",
    "If your PC has no worse than Intel Core i5-8250U Processor (as had the TA's PC in 2019) and your code is well done, the program shall be guaranteed to run fast.\n",
    "\n",
    "Conventionally, `you are encouraged to construct not too complicated CNN` to save computational cost, since MNIST is a relatively simple problem. However, `as long as your code works out for you, no point will be removed if your CNN is huge`.\n",
    "\n",
    "------------------------------------------------------------------------------------------------------------------------------------------------\n"
   ]
  },
  {
   "cell_type": "markdown",
   "metadata": {},
   "source": [
    "In this part, I construct a 2-layer CNN with stride and kernel size as small as possible while in & out channels as large as possible to guarantee that this model can converge ASAP.\n",
    "\n",
    "I deploy some methods for accleration. For instance, I introduce 2 batch normalizations to manage both training and testing."
   ]
  },
  {
   "cell_type": "code",
   "execution_count": 22,
   "metadata": {},
   "outputs": [
    {
     "name": "stdout",
     "output_type": "stream",
     "text": [
      "(1): First have a look at the number of parameters in my CNN:\n",
      "----------------------------------------------------------------\n",
      "        Layer (type)               Output Shape         Param #\n",
      "================================================================\n",
      "            Conv2d-1           [-1, 32, 28, 28]             320\n",
      "       BatchNorm2d-2           [-1, 32, 28, 28]              64\n",
      "              ReLU-3           [-1, 32, 28, 28]               0\n",
      "         MaxPool2d-4           [-1, 32, 14, 14]               0\n",
      "            Conv2d-5           [-1, 64, 14, 14]          18,496\n",
      "       BatchNorm2d-6           [-1, 64, 14, 14]             128\n",
      "              ReLU-7           [-1, 64, 14, 14]               0\n",
      "         MaxPool2d-8             [-1, 64, 7, 7]               0\n",
      "           Flatten-9                 [-1, 3136]               0\n",
      "           Linear-10                   [-1, 10]          31,370\n",
      "================================================================\n",
      "Total params: 50,378\n",
      "Trainable params: 50,378\n",
      "Non-trainable params: 0\n",
      "----------------------------------------------------------------\n",
      "Input size (MB): 0.00\n",
      "Forward/backward pass size (MB): 0.96\n",
      "Params size (MB): 0.19\n",
      "Estimated Total Size (MB): 1.15\n",
      "----------------------------------------------------------------\n",
      "\n",
      "\n",
      "(2) & (3) results are shown as following:\n",
      "Epoch [1/10]: Train loss: 0.4153, Val loss: 0.1741, Val accuracy: 0.9461\n",
      "Epoch [2/10]: Train loss: 0.1045, Val loss: 0.1222, Val accuracy: 0.9626\n",
      "Epoch [3/10]: Train loss: 0.0618, Val loss: 0.0932, Val accuracy: 0.9710\n",
      "Epoch [4/10]: Train loss: 0.0437, Val loss: 0.1465, Val accuracy: 0.9544\n",
      "Epoch [5/10]: Train loss: 0.0271, Val loss: 0.0987, Val accuracy: 0.9699\n",
      "Epoch [6/10]: Train loss: 0.0199, Val loss: 0.0820, Val accuracy: 0.9744\n",
      "Epoch [7/10]: Train loss: 0.0142, Val loss: 0.0854, Val accuracy: 0.9743\n",
      "Epoch [8/10]: Train loss: 0.0110, Val loss: 0.1036, Val accuracy: 0.9683\n",
      "Epoch [9/10]: Train loss: 0.0072, Val loss: 0.0776, Val accuracy: 0.9768\n",
      "Epoch [10/10]: Train loss: 0.0062, Val loss: 0.0751, Val accuracy: 0.9773\n"
     ]
    },
    {
     "data": {
      "image/png": "[encoded data removed]",
      "text/plain": [
       "<Figure size 640x480 with 1 Axes>"
      ]
     },
     "metadata": {},
     "output_type": "display_data"
    },
    {
     "name": "stdout",
     "output_type": "stream",
     "text": [
      "\n",
      "\n",
      "(4): Results on test set\n",
      "Loss on test set: 0.0589\n",
      "Rate of correct prediction on test set: 97.99%\n",
      "\n",
      "\n",
      "(5): Confusion matrix on test set:\n"
     ]
    },
    {
     "data": {
      "image/png": "[encoded data removed]",
      "text/plain": [
       "<Figure size 640x480 with 2 Axes>"
      ]
     },
     "metadata": {},
     "output_type": "display_data"
    }
   ],
   "source": [
    "from torchsummary import summary\n",
    "from torchmetrics.functional import confusion_matrix\n",
    "# construct a 2-layer CNN\n",
    "class SimpleCNN(nn.Module):\n",
    "    def __init__(self):\n",
    "        super(SimpleCNN, self).__init__()\n",
    "        # fix the random seed for reproductive results\n",
    "        torch.manual_seed(42)\n",
    "        self.conv1 = nn.Conv2d(in_channels=1, out_channels=32, kernel_size=3, stride=1, padding=1)\n",
    "        self.relu = nn.ReLU()\n",
    "        self.bn1 = nn.BatchNorm2d(32)\n",
    "        self.maxpool = nn.MaxPool2d(kernel_size=2, stride=2)\n",
    "        self.conv2 = nn.Conv2d(in_channels=32, out_channels=64, kernel_size=3, stride=1, padding=1)\n",
    "        self.bn2 = nn.BatchNorm2d(64)\n",
    "        self.flatten = nn.Flatten()\n",
    "        self.fc = nn.Linear(64 * 7 * 7, 10)\n",
    "    \n",
    "    def forward(self, x):\n",
    "        x = self.conv1(x)\n",
    "        x = self.bn1(x)\n",
    "        x = self.relu(x)\n",
    "        x = self.maxpool(x)\n",
    "        x = self.conv2(x)\n",
    "        x = self.bn2(x)\n",
    "        x = self.relu(x)\n",
    "        x = self.maxpool(x)\n",
    "        x = self.flatten(x)\n",
    "        x = self.fc(x)\n",
    "        return x\n",
    "    \n",
    "# create an instance\n",
    "model_simple_cnn = SimpleCNN()\n",
    "optimizer_simple_cnn = optim.SGD(model_simple_cnn.parameters(), lr=0.01)\n",
    "criterion_simple_cnn = nn.CrossEntropyLoss()\n",
    "# print number of parameters\n",
    "print('(1): First have a look at the number of parameters in my CNN:')\n",
    "summary(model_simple_cnn, input_size=(1, 28, 28)) \n",
    "print('\\n')\n",
    "\n",
    "\n",
    "print('(2) & (3) results are shown as following:')\n",
    "num_epochs = 10\n",
    "path_cnn = 'best_cnn'\n",
    "train_test(model_simple_cnn, num_epochs, train_loader, optimizer_simple_cnn, criterion_simple_cnn, path_cnn)\n",
    "print('\\n')\n",
    "\n",
    "\n",
    "# test the model on test set\n",
    "model_simple_cnn_ = torch.load(path_cnn)\n",
    "testl_cnn, testa_cnn = test(model_simple_cnn_, test_loader, criterion_simple_cnn)\n",
    "\n",
    "print('(4): Results on test set')\n",
    "print(\"Loss on test set:\", round(testl_cnn, 4))\n",
    "print(\"Rate of correct prediction on test set:\", f'{100 * testa_cnn:.2f}%')\n",
    "print('\\n')\n",
    "\n",
    "\n",
    "# Finally calculate the confusion matrix on test set\n",
    "model_simple_cnn_.eval()\n",
    "all_labels = []\n",
    "all_predictions = []\n",
    "\n",
    "with torch.no_grad():\n",
    "    for images, labels in test_loader:\n",
    "        output_cnn = model_simple_cnn_(images)\n",
    "        _, pre = torch.max(output_cnn, 1)\n",
    "        all_labels.extend(labels)\n",
    "        all_predictions.extend(pre)\n",
    "all_labels = torch.tensor(all_labels)\n",
    "all_predictions = torch.tensor(all_predictions)\n",
    "\n",
    "print('(5): Confusion matrix on test set:')\n",
    "conf_m = confusion_matrix(all_labels, all_predictions, num_classes=10, task='multiclass')\n",
    "plt.imshow(conf_m, cmap='gray', interpolation='nearest', vmin=-1, vmax=1)\n",
    "plt.colorbar()\n",
    "plt.xlabel('Predicted Label')\n",
    "plt.ylabel('True Label')\n",
    "plt.title('Confusion Matrix')\n",
    "plt.show()"
   ]
  }
 ],
 "metadata": {
  "kernelspec": {
   "display_name": "Python 3 (ipykernel)",
   "language": "python",
   "name": "python3"
  },
  "language_info": {
   "codemirror_mode": {
    "name": "ipython",
    "version": 3
   },
   "file_extension": ".py",
   "mimetype": "text/x-python",
   "name": "python",
   "nbconvert_exporter": "python",
   "pygments_lexer": "ipython3",
   "version": "3.10.9"
  }
 },
 "nbformat": 4,
 "nbformat_minor": 2
}
